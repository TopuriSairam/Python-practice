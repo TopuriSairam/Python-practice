{
 "cells": [
  {
   "cell_type": "markdown",
   "id": "7d83ca52",
   "metadata": {},
   "source": [
    "# Exercise 1: Create a function in Python\n",
    "    \n",
    "Write a program to create a function that takes two arguments, name and age, and print their value."
   ]
  },
  {
   "cell_type": "code",
   "execution_count": 3,
   "id": "335ea98d",
   "metadata": {},
   "outputs": [
    {
     "name": "stdout",
     "output_type": "stream",
     "text": [
      "Ben 25\n"
     ]
    }
   ],
   "source": [
    "# demo is the function name\n",
    "def demo(name, age):\n",
    "    # print value\n",
    "    print(name, age)\n",
    "\n",
    "# call function\n",
    "demo(\"Ben\", 25)"
   ]
  },
  {
   "cell_type": "code",
   "execution_count": null,
   "id": "d910c846",
   "metadata": {},
   "outputs": [],
   "source": []
  },
  {
   "cell_type": "markdown",
   "id": "8810ad91",
   "metadata": {},
   "source": [
    "# Exercise 2: Create a function with variable length of arguments\n",
    "    \n",
    "Write a program to create function func1() to accept a variable length of arguments and print their value.\n",
    "\n"
   ]
  },
  {
   "cell_type": "code",
   "execution_count": 6,
   "id": "d92bc2b0",
   "metadata": {},
   "outputs": [],
   "source": [
    "def func1(*args):\n",
    "    for i in args:\n",
    "        print (i)\n",
    "        "
   ]
  },
  {
   "cell_type": "code",
   "execution_count": 7,
   "id": "4ed41ea1",
   "metadata": {},
   "outputs": [
    {
     "name": "stdout",
     "output_type": "stream",
     "text": [
      "20\n",
      "40\n",
      "60\n"
     ]
    }
   ],
   "source": [
    "func1(20, 40, 60)"
   ]
  },
  {
   "cell_type": "code",
   "execution_count": 8,
   "id": "3dfb6247",
   "metadata": {},
   "outputs": [
    {
     "name": "stdout",
     "output_type": "stream",
     "text": [
      "80\n",
      "100\n"
     ]
    }
   ],
   "source": [
    "func1(80, 100)"
   ]
  },
  {
   "cell_type": "code",
   "execution_count": null,
   "id": "4e9bad36",
   "metadata": {},
   "outputs": [],
   "source": []
  },
  {
   "cell_type": "markdown",
   "id": "8c7d70f9",
   "metadata": {},
   "source": [
    "# Exercise 3: Return multiple values from a function\n",
    "\n",
    "Write a program to create function calculation() such that it can accept two variables and calculate addition and subtraction. Also, it must return both addition and subtraction in a single return call."
   ]
  },
  {
   "cell_type": "code",
   "execution_count": 14,
   "id": "4b4fdc49",
   "metadata": {},
   "outputs": [
    {
     "name": "stdout",
     "output_type": "stream",
     "text": [
      "(50, 30)\n"
     ]
    }
   ],
   "source": [
    "def calculation(a, b):\n",
    "    addition = a + b\n",
    "    subtraction = a - b\n",
    "    # return multiple values separated by comma\n",
    "    return addition, subtraction\n",
    "\n",
    "# get result in tuple format\n",
    "res = calculation(40, 10)\n",
    "print(res)"
   ]
  },
  {
   "cell_type": "code",
   "execution_count": null,
   "id": "780076f7",
   "metadata": {},
   "outputs": [],
   "source": []
  },
  {
   "cell_type": "code",
   "execution_count": 13,
   "id": "63a9c375",
   "metadata": {},
   "outputs": [
    {
     "name": "stdout",
     "output_type": "stream",
     "text": [
      "50 30\n"
     ]
    }
   ],
   "source": [
    "def calculation(a, b):\n",
    "    return a + b, a - b\n",
    "\n",
    "# get result in tuple format\n",
    "# unpack tuple\n",
    "add, sub = calculation(40, 10)\n",
    "print(add, sub)"
   ]
  },
  {
   "cell_type": "code",
   "execution_count": null,
   "id": "8cfc34c2",
   "metadata": {},
   "outputs": [],
   "source": []
  },
  {
   "cell_type": "markdown",
   "id": "43c2541d",
   "metadata": {},
   "source": [
    "# Exercise 4: Create a function with default argument\n",
    "    \n",
    "Write a program to create a function show_employee() using the following conditions.\n",
    "\n",
    "It should accept the employee’s name and salary and display both.\n",
    "\n",
    "If the salary is missing in the function call then assign default value 9000 to salary"
   ]
  },
  {
   "cell_type": "code",
   "execution_count": 15,
   "id": "564f85a8",
   "metadata": {},
   "outputs": [],
   "source": [
    "def show_employee(name,salary=9000):\n",
    "    print('Name:',name,'Salary:',salary)"
   ]
  },
  {
   "cell_type": "code",
   "execution_count": 16,
   "id": "314b8f08",
   "metadata": {},
   "outputs": [
    {
     "name": "stdout",
     "output_type": "stream",
     "text": [
      "Name: Ben Salary: 12000\n"
     ]
    }
   ],
   "source": [
    "show_employee(\"Ben\", 12000)"
   ]
  },
  {
   "cell_type": "code",
   "execution_count": 17,
   "id": "b9ece481",
   "metadata": {},
   "outputs": [
    {
     "name": "stdout",
     "output_type": "stream",
     "text": [
      "Name: Jessa Salary: 9000\n"
     ]
    }
   ],
   "source": [
    "show_employee(\"Jessa\")"
   ]
  },
  {
   "cell_type": "code",
   "execution_count": null,
   "id": "76950b56",
   "metadata": {},
   "outputs": [],
   "source": []
  },
  {
   "cell_type": "markdown",
   "id": "e23e129b",
   "metadata": {},
   "source": [
    "# Exercise 5: Create an inner function to calculate the addition in the following way\n",
    "    \n",
    "Create an outer function that will accept two parameters, a and b\n",
    "\n",
    "Create an inner function inside an outer function that will calculate the addition of a and b\n",
    "\n",
    "At last, an outer function will add 5 into addition and return it"
   ]
  },
  {
   "cell_type": "code",
   "execution_count": 20,
   "id": "2b16aac3",
   "metadata": {},
   "outputs": [
    {
     "name": "stdout",
     "output_type": "stream",
     "text": [
      "20\n"
     ]
    }
   ],
   "source": [
    "# outer function\n",
    "def outer_fun(a, b):\n",
    "    square = a ** 2\n",
    "\n",
    "    # inner function\n",
    "    def addition(a, b):\n",
    "        return a + b\n",
    "\n",
    "    # call inner function from outer function\n",
    "    add = addition(a, b)\n",
    "    # add 5 to the result\n",
    "    return add + 5\n",
    "\n",
    "result = outer_fun(5, 10)\n",
    "print(result)"
   ]
  },
  {
   "cell_type": "code",
   "execution_count": null,
   "id": "9e31fa87",
   "metadata": {},
   "outputs": [],
   "source": []
  },
  {
   "cell_type": "markdown",
   "id": "5d7bb512",
   "metadata": {},
   "source": [
    "# Exercise 6: Create a recursive function\n",
    "    \n",
    "Write a program to create a recursive function to calculate the sum of numbers from 0 to 10.\n",
    "\n",
    "A recursive function is a function that calls itself, again and again.\n",
    "\n"
   ]
  },
  {
   "cell_type": "code",
   "execution_count": 22,
   "id": "2a8a1f99",
   "metadata": {},
   "outputs": [
    {
     "name": "stdout",
     "output_type": "stream",
     "text": [
      "55\n"
     ]
    }
   ],
   "source": [
    "def addition(num):\n",
    "    if num:\n",
    "        # call same function by reducing number by 1\n",
    "        return num + addition(num - 1)\n",
    "    else:\n",
    "        return 0\n",
    "\n",
    "res = addition(10)\n",
    "print(res)   "
   ]
  },
  {
   "cell_type": "code",
   "execution_count": null,
   "id": "e3a68cfd",
   "metadata": {},
   "outputs": [],
   "source": []
  },
  {
   "cell_type": "markdown",
   "id": "28b646f9",
   "metadata": {},
   "source": [
    "# Exercise 7: Assign a different name to function and call it through the new name\n",
    "    \n",
    "Below is the function display_student(name, age). Assign a new name show_tudent(name, age) to it and call it using the new name."
   ]
  },
  {
   "cell_type": "code",
   "execution_count": 23,
   "id": "32507c84",
   "metadata": {},
   "outputs": [
    {
     "name": "stdout",
     "output_type": "stream",
     "text": [
      "Emma 26\n",
      "Emma 26\n"
     ]
    }
   ],
   "source": [
    "def display_student(name, age):\n",
    "    print(name, age)\n",
    "\n",
    "# call using original name\n",
    "display_student(\"Emma\", 26)\n",
    "\n",
    "# assign new name\n",
    "showStudent = display_student\n",
    "# call using new name\n",
    "showStudent(\"Emma\", 26)"
   ]
  },
  {
   "cell_type": "code",
   "execution_count": null,
   "id": "918a707f",
   "metadata": {},
   "outputs": [],
   "source": []
  },
  {
   "cell_type": "markdown",
   "id": "256b230c",
   "metadata": {},
   "source": [
    "# Exercise 8: Generate a Python list of all the even numbers between 4 to 30"
   ]
  },
  {
   "cell_type": "code",
   "execution_count": 24,
   "id": "cc0ed1fb",
   "metadata": {},
   "outputs": [
    {
     "name": "stdout",
     "output_type": "stream",
     "text": [
      "[4, 6, 8, 10, 12, 14, 16, 18, 20, 22, 24, 26, 28]\n"
     ]
    }
   ],
   "source": [
    "print(list(range(4,30,2)))"
   ]
  },
  {
   "cell_type": "code",
   "execution_count": null,
   "id": "97da2ecc",
   "metadata": {},
   "outputs": [],
   "source": []
  },
  {
   "cell_type": "markdown",
   "id": "37ae0fc8",
   "metadata": {},
   "source": [
    "# Exercise 9: Find the largest item from a given list\n",
    "\n",
    "x = [4, 6, 8, 24, 12, 2]"
   ]
  },
  {
   "cell_type": "code",
   "execution_count": 25,
   "id": "50abe288",
   "metadata": {},
   "outputs": [
    {
     "name": "stdout",
     "output_type": "stream",
     "text": [
      "24\n"
     ]
    }
   ],
   "source": [
    "x = [4, 6, 8, 24, 12, 2]\n",
    "print(max(x))"
   ]
  },
  {
   "cell_type": "code",
   "execution_count": null,
   "id": "47910268",
   "metadata": {},
   "outputs": [],
   "source": []
  }
 ],
 "metadata": {
  "kernelspec": {
   "display_name": "Python 3",
   "language": "python",
   "name": "python3"
  },
  "language_info": {
   "codemirror_mode": {
    "name": "ipython",
    "version": 3
   },
   "file_extension": ".py",
   "mimetype": "text/x-python",
   "name": "python",
   "nbconvert_exporter": "python",
   "pygments_lexer": "ipython3",
   "version": "3.8.8"
  }
 },
 "nbformat": 4,
 "nbformat_minor": 5
}
