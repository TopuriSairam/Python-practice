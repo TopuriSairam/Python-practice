{
 "cells": [
  {
   "cell_type": "markdown",
   "id": "63cbb7ec",
   "metadata": {},
   "source": [
    "# Exercise 1: Print First 10 natural numbers using while loop\n"
   ]
  },
  {
   "cell_type": "code",
   "execution_count": 1,
   "id": "16497b4e",
   "metadata": {},
   "outputs": [
    {
     "name": "stdout",
     "output_type": "stream",
     "text": [
      "1\n",
      "2\n",
      "3\n",
      "4\n",
      "5\n",
      "6\n",
      "7\n",
      "8\n",
      "9\n",
      "10\n"
     ]
    }
   ],
   "source": [
    "i = 1\n",
    "while i <=10:\n",
    "    print(i)\n",
    "    i+= 1"
   ]
  },
  {
   "cell_type": "code",
   "execution_count": null,
   "id": "b84730c6",
   "metadata": {},
   "outputs": [],
   "source": []
  },
  {
   "cell_type": "markdown",
   "id": "4794d324",
   "metadata": {},
   "source": [
    "# Exercise 2: Print the following pattern\n",
    "\n",
    "Write a program to print the following number pattern using a loop.\n",
    "\n",
    "\n",
    "1 \n",
    "\n",
    "1 2 \n",
    "\n",
    "1 2 3 \n",
    "\n",
    "1 2 3 4 \n",
    "\n",
    "1 2 3 4 5"
   ]
  },
  {
   "cell_type": "code",
   "execution_count": 4,
   "id": "d4a62307",
   "metadata": {},
   "outputs": [
    {
     "name": "stdout",
     "output_type": "stream",
     "text": [
      "1 \n",
      "1 2 \n",
      "1 2 3 \n",
      "1 2 3 4 \n",
      "1 2 3 4 5 \n"
     ]
    }
   ],
   "source": [
    "# Decide the row count. (above pattern contains 5 rows)\n",
    "row = 5\n",
    "# start: 1\n",
    "# stop: row+1 (range never include stop number in result)\n",
    "# step: 1\n",
    "# run loop 5 times\n",
    "for i in range(1, row + 1, 1):\n",
    "    # Run inner loop i+1 times\n",
    "    for j in range(1, i + 1):\n",
    "        print(j, end=' ')\n",
    "    # empty line after each row\n",
    "    print(\"\")"
   ]
  },
  {
   "cell_type": "code",
   "execution_count": null,
   "id": "77522541",
   "metadata": {},
   "outputs": [],
   "source": []
  },
  {
   "cell_type": "markdown",
   "id": "228b4bb6",
   "metadata": {},
   "source": [
    "# Exercise 3: Calculate the sum of all numbers from 1 to a given number\n",
    "\n",
    "Write a program to accept a number from a user and calculate the sum of all numbers from 1 to a given number\n",
    "\n",
    "For example, if the user entered 10 the output should be 55 (1+2+3+4+5+6+7+8+9+10)"
   ]
  },
  {
   "cell_type": "code",
   "execution_count": 13,
   "id": "b6b9b2ff",
   "metadata": {},
   "outputs": [
    {
     "name": "stdout",
     "output_type": "stream",
     "text": [
      "Enter number10\n",
      "Sum is : 55\n"
     ]
    }
   ],
   "source": [
    "n = int(input('Enter number'))\n",
    "x = sum(range(1,n+1))\n",
    "print('Sum is :',x)"
   ]
  },
  {
   "cell_type": "code",
   "execution_count": 15,
   "id": "d04574d8",
   "metadata": {},
   "outputs": [
    {
     "name": "stdout",
     "output_type": "stream",
     "text": [
      "Enter number 10\n",
      "\n",
      "\n",
      "Sum is:  55\n"
     ]
    }
   ],
   "source": [
    "# s: store sum of all numbers\n",
    "s = 0\n",
    "n = int(input(\"Enter number \"))\n",
    "# run loop n times\n",
    "# stop: n+1 (because range never include stop number in result)\n",
    "for i in range(1, n + 1, 1):\n",
    "    # add current number to sum variable\n",
    "    s += i\n",
    "print(\"\\n\")\n",
    "print(\"Sum is: \", s)"
   ]
  },
  {
   "cell_type": "code",
   "execution_count": null,
   "id": "be49d014",
   "metadata": {},
   "outputs": [],
   "source": []
  },
  {
   "cell_type": "markdown",
   "id": "1770f0a7",
   "metadata": {},
   "source": [
    "# Exercise 4: Write a program to print multiplication table of a given number\n",
    "    \n",
    "For example, num = 2 so the output should be\n",
    "\n",
    "\n",
    "2\n",
    "\n",
    "4\n",
    "\n",
    "6\n",
    "\n",
    "8\n",
    "\n",
    "10\n",
    "\n",
    "12\n",
    "\n",
    "14\n",
    "\n",
    "16\n",
    "\n",
    "18\n",
    "\n",
    "20"
   ]
  },
  {
   "cell_type": "code",
   "execution_count": 16,
   "id": "4362b908",
   "metadata": {},
   "outputs": [
    {
     "name": "stdout",
     "output_type": "stream",
     "text": [
      "2\n",
      "4\n",
      "6\n",
      "8\n",
      "10\n",
      "12\n",
      "14\n",
      "16\n",
      "18\n",
      "20\n"
     ]
    }
   ],
   "source": [
    "n = 2\n",
    "# stop: 11 (because range never include stop number in result)\n",
    "# run loop 10 times\n",
    "for i in range(1, 11, 1):\n",
    "    # 2 *i (current number)\n",
    "    product = n * i\n",
    "    print(product)"
   ]
  },
  {
   "cell_type": "code",
   "execution_count": null,
   "id": "9647b9b6",
   "metadata": {},
   "outputs": [],
   "source": []
  },
  {
   "cell_type": "markdown",
   "id": "68900a1c",
   "metadata": {},
   "source": [
    "# Exercise 5: Display numbers from a list using loop\n",
    "Write a program to display only those numbers from a list that satisfy the following conditions\n",
    "\n",
    "The number must be divisible by five\n",
    "If the number is greater than 150, then skip it and move to the next number\n",
    "If the number is greater than 500, then stop the loop\n",
    "\n",
    "Given:\n",
    "\n",
    "numbers = [12, 75, 150, 180, 145, 525, 50]\n",
    "\n",
    "Expected output:\n",
    "\n",
    "75\n",
    "\n",
    "150\n",
    "\n",
    "145"
   ]
  },
  {
   "cell_type": "code",
   "execution_count": 18,
   "id": "ba13ed0f",
   "metadata": {},
   "outputs": [
    {
     "name": "stdout",
     "output_type": "stream",
     "text": [
      "75\n",
      "150\n",
      "145\n"
     ]
    }
   ],
   "source": [
    "numbers = [12, 75, 150, 180, 145, 525, 50]\n",
    "# iterate each item of a list\n",
    "for item in numbers:\n",
    "    if item > 500:\n",
    "        break\n",
    "    elif item > 150:\n",
    "        continue\n",
    "    # check if number is divisible by 5\n",
    "    elif item % 5 == 0:\n",
    "        print(item)\n",
    "        \n",
    "        "
   ]
  },
  {
   "cell_type": "code",
   "execution_count": null,
   "id": "7395f03b",
   "metadata": {},
   "outputs": [],
   "source": []
  },
  {
   "cell_type": "markdown",
   "id": "c5581ea8",
   "metadata": {},
   "source": [
    "# Exercise 6: Count the total number of digits in a number\n",
    "\n",
    "Write a program to count the total number of digits in a number using a while loop.\n",
    "\n",
    "For example, the number is 75869, so the output should be 5."
   ]
  },
  {
   "cell_type": "code",
   "execution_count": 19,
   "id": "bb58f502",
   "metadata": {},
   "outputs": [
    {
     "name": "stdout",
     "output_type": "stream",
     "text": [
      "Enter number 75865\n",
      "Total digits are: 5\n"
     ]
    }
   ],
   "source": [
    "n = int(input(\"Enter number \"))\n",
    "count = 0\n",
    "while n!=0:\n",
    "    n = n//10\n",
    "    count = count+1\n",
    "print('Total digits are:',count)    \n",
    "    "
   ]
  },
  {
   "cell_type": "code",
   "execution_count": null,
   "id": "dd8c8951",
   "metadata": {},
   "outputs": [],
   "source": []
  },
  {
   "cell_type": "markdown",
   "id": "794ce1b5",
   "metadata": {},
   "source": [
    "# Exercise 7: Print the following pattern\n",
    "\n",
    "Write a program to use for loop to print the following reverse number pattern\n",
    "\n",
    "5 4 3 2 1 \n",
    "\n",
    "4 3 2 1 \n",
    "\n",
    "3 2 1 \n",
    "\n",
    "2 1 \n",
    "\n",
    "1"
   ]
  },
  {
   "cell_type": "code",
   "execution_count": 20,
   "id": "6e7bab0d",
   "metadata": {},
   "outputs": [
    {
     "name": "stdout",
     "output_type": "stream",
     "text": [
      "54321\n",
      "4321\n",
      "321\n",
      "21\n",
      "1\n",
      "\n"
     ]
    }
   ],
   "source": [
    "n = 5\n",
    "k = 5\n",
    "for i in range(0,n+1):\n",
    "    for j in range(k-i,0,-1):\n",
    "        print(j,end = '')\n",
    "    print()    "
   ]
  },
  {
   "cell_type": "code",
   "execution_count": null,
   "id": "6e5e3dc7",
   "metadata": {},
   "outputs": [],
   "source": []
  },
  {
   "cell_type": "markdown",
   "id": "b08b74ae",
   "metadata": {},
   "source": [
    "# Exercise 8: Print list in reverse order using a loop"
   ]
  },
  {
   "cell_type": "code",
   "execution_count": 21,
   "id": "8dbf27cc",
   "metadata": {},
   "outputs": [
    {
     "name": "stdout",
     "output_type": "stream",
     "text": [
      "50\n",
      "40\n",
      "30\n",
      "20\n",
      "10\n"
     ]
    }
   ],
   "source": [
    "list1 = [10, 20, 30, 40, 50]\n",
    "# get list size\n",
    "# len(list1) -1: because index start with 0\n",
    "# iterate list in reverse order\n",
    "# star from last item to first\n",
    "size = len(list1) - 1\n",
    "for i in range(size, -1, -1):\n",
    "    print(list1[i])"
   ]
  },
  {
   "cell_type": "code",
   "execution_count": 22,
   "id": "c417b2af",
   "metadata": {},
   "outputs": [
    {
     "name": "stdout",
     "output_type": "stream",
     "text": [
      "50\n",
      "40\n",
      "30\n",
      "20\n",
      "10\n"
     ]
    }
   ],
   "source": [
    "list1 = [10, 20, 30, 40, 50]\n",
    "# reverse list\n",
    "new_list = reversed(list1)\n",
    "# iterate reversed list\n",
    "for item in new_list:\n",
    "    print(item)"
   ]
  },
  {
   "cell_type": "code",
   "execution_count": null,
   "id": "f7c361cc",
   "metadata": {},
   "outputs": [],
   "source": []
  },
  {
   "cell_type": "markdown",
   "id": "c9000639",
   "metadata": {},
   "source": [
    "# Exercise 9: Display numbers from -10 to -1 using for loop"
   ]
  },
  {
   "cell_type": "code",
   "execution_count": 4,
   "id": "c091c486",
   "metadata": {},
   "outputs": [
    {
     "name": "stdout",
     "output_type": "stream",
     "text": [
      "-10\n",
      "-9\n",
      "-8\n",
      "-7\n",
      "-6\n",
      "-5\n",
      "-4\n",
      "-3\n",
      "-2\n",
      "-1\n"
     ]
    }
   ],
   "source": [
    "for num in range(-10,0,1):\n",
    "    print(num)"
   ]
  },
  {
   "cell_type": "code",
   "execution_count": null,
   "id": "ba4c5137",
   "metadata": {},
   "outputs": [],
   "source": []
  },
  {
   "cell_type": "markdown",
   "id": "4a0faabf",
   "metadata": {},
   "source": [
    "# Exercise 10: Use else block to display a message “Done” after successful execution of for loop\n"
   ]
  },
  {
   "cell_type": "code",
   "execution_count": 6,
   "id": "b92d4fdb",
   "metadata": {},
   "outputs": [
    {
     "name": "stdout",
     "output_type": "stream",
     "text": [
      "0\n",
      "1\n",
      "2\n",
      "3\n",
      "4\n",
      "Done\n"
     ]
    }
   ],
   "source": [
    "for i in range(5):\n",
    "    print(i)\n",
    "else:\n",
    "    print('Done')"
   ]
  },
  {
   "cell_type": "code",
   "execution_count": null,
   "id": "5e53bc2e",
   "metadata": {},
   "outputs": [],
   "source": []
  },
  {
   "cell_type": "markdown",
   "id": "2dfd8721",
   "metadata": {},
   "source": [
    "# Exercise 11: Write a program to display all prime numbers within a range\n",
    "    \n",
    "Note: A Prime Number is a number that cannot be made by multiplying other whole numbers. A prime number is a natural number greater than 1 that is not a product of two smaller natural numbers\n",
    "\n",
    "Examples:\n",
    "\n",
    "6 is not a prime mumber because it can be made by 2×3 = 6\n",
    "\n",
    "37 is a prime number because no other whole numbers multiply together to make it."
   ]
  },
  {
   "cell_type": "code",
   "execution_count": 12,
   "id": "951add6d",
   "metadata": {},
   "outputs": [
    {
     "name": "stdout",
     "output_type": "stream",
     "text": [
      "Prime numbers between 25 and 50 are:\n",
      "29\n",
      "31\n",
      "37\n",
      "41\n",
      "43\n",
      "47\n"
     ]
    }
   ],
   "source": [
    "start = 25\n",
    "end = 50\n",
    "print(\"Prime numbers between\", start, \"and\", end, \"are:\")\n",
    "\n",
    "for num in range(start, end + 1):\n",
    "    # all prime numbers are greater than 1\n",
    "    # if number is less than or equal to 1, it is not prime\n",
    "    if num > 1:\n",
    "        for i in range(2, num):\n",
    "            # check for factors\n",
    "            if (num % i) == 0:\n",
    "                # not a prime number so break inner loop and\n",
    "                # look for next number\n",
    "                break\n",
    "        else:\n",
    "            print(num)"
   ]
  },
  {
   "cell_type": "code",
   "execution_count": null,
   "id": "44f7093f",
   "metadata": {},
   "outputs": [],
   "source": []
  },
  {
   "cell_type": "markdown",
   "id": "f93904f9",
   "metadata": {},
   "source": [
    "# Exercise 12: Display Fibonacci series up to 10 terms\n",
    "    \n",
    "The Fibonacci Sequence is a series of numbers. The next number is found by adding up the two numbers before it. The first two numbers are 0 and 1.\n",
    "\n",
    "For example, 0, 1, 1, 2, 3, 5, 8, 13, 21. The next number in this series above is 13+21 = 34."
   ]
  },
  {
   "cell_type": "code",
   "execution_count": null,
   "id": "ccd8802f",
   "metadata": {},
   "outputs": [],
   "source": [
    "# first two numbers\n",
    "num1, num2 = 0, 1\n",
    "\n",
    "print(\"Fibonacci sequence:\")\n",
    "# run loop 10 times\n",
    "for i in range(10):\n",
    "    # print next number of a series\n",
    "    print(num1, end=\"  \")\n",
    "    # add last two numbers to get next number\n",
    "    res = num1 + num2\n",
    "\n",
    "    # update values\n",
    "    num1 = num2\n",
    "    num2 = res"
   ]
  },
  {
   "cell_type": "code",
   "execution_count": null,
   "id": "44d12221",
   "metadata": {},
   "outputs": [],
   "source": []
  },
  {
   "cell_type": "markdown",
   "id": "04b67dc0",
   "metadata": {},
   "source": [
    "# Exercise 13: Find the factorial of a given number\n",
    "    \n",
    "Write a program to use the loop to find the factorial of a given number.\n",
    "\n",
    "The factorial (symbol: !) means to multiply all whole numbers from the chosen number down to 1.\n",
    "\n",
    "For example: calculate the factorial of 5\n",
    "\n",
    "5! = 5 × 4 × 3 × 2 × 1 = 120"
   ]
  },
  {
   "cell_type": "code",
   "execution_count": 18,
   "id": "1b6bd01b",
   "metadata": {},
   "outputs": [
    {
     "name": "stdout",
     "output_type": "stream",
     "text": [
      "The factorial of 5 is 120\n"
     ]
    }
   ],
   "source": [
    "num = 5\n",
    "factorial = 1\n",
    "if num < 0:\n",
    "    print(\"Factorial does not exist for negative numbers\")\n",
    "elif num == 0:\n",
    "    print(\"The factorial of 0 is 1\")\n",
    "else:\n",
    "    # run loop 5 times\n",
    "    for i in range(1, num + 1):\n",
    "        # multiply factorial by current number\n",
    "        factorial = factorial * i\n",
    "    print(\"The factorial of\", num, \"is\", factorial)\n",
    "    "
   ]
  },
  {
   "cell_type": "code",
   "execution_count": null,
   "id": "029212f9",
   "metadata": {},
   "outputs": [],
   "source": []
  },
  {
   "cell_type": "markdown",
   "id": "3fc19721",
   "metadata": {},
   "source": [
    "# Exercise 14: Reverse a given integer number\n",
    "    \n",
    "Given:\n",
    "\n",
    "76542"
   ]
  },
  {
   "cell_type": "code",
   "execution_count": 1,
   "id": "d1b8814a",
   "metadata": {},
   "outputs": [
    {
     "name": "stdout",
     "output_type": "stream",
     "text": [
      "Given Number  76542\n",
      "Revere Number  24567\n"
     ]
    }
   ],
   "source": [
    "num = 76542\n",
    "reverse_number = 0\n",
    "print(\"Given Number \", num)\n",
    "while num > 0:\n",
    "    reminder = num % 10\n",
    "    reverse_number = (reverse_number * 10) + reminder\n",
    "    num = num // 10\n",
    "print(\"Revere Number \", reverse_number)"
   ]
  },
  {
   "cell_type": "code",
   "execution_count": null,
   "id": "b0406436",
   "metadata": {},
   "outputs": [],
   "source": []
  },
  {
   "cell_type": "markdown",
   "id": "fc7ba867",
   "metadata": {},
   "source": [
    "# Exercise 15: Use a loop to display elements from a given list present at odd index positions"
   ]
  },
  {
   "cell_type": "code",
   "execution_count": 3,
   "id": "4f4795b1",
   "metadata": {},
   "outputs": [
    {
     "name": "stdout",
     "output_type": "stream",
     "text": [
      "20 40 60 80 100 "
     ]
    }
   ],
   "source": [
    "my_list = [10, 20, 30, 40, 50, 60, 70, 80, 90, 100]\n",
    "for i in my_list[1::2]:\n",
    "    print(i,end=' ')"
   ]
  },
  {
   "cell_type": "code",
   "execution_count": null,
   "id": "67c2dbdf",
   "metadata": {},
   "outputs": [],
   "source": []
  },
  {
   "cell_type": "markdown",
   "id": "e017f719",
   "metadata": {},
   "source": [
    "# Exercise 16: Calculate the cube of all numbers from 1 to a given number"
   ]
  },
  {
   "cell_type": "code",
   "execution_count": 4,
   "id": "5bc956ff",
   "metadata": {},
   "outputs": [
    {
     "name": "stdout",
     "output_type": "stream",
     "text": [
      "Current Number is : 1  and the cube is 1\n",
      "Current Number is : 2  and the cube is 8\n",
      "Current Number is : 3  and the cube is 27\n",
      "Current Number is : 4  and the cube is 64\n",
      "Current Number is : 5  and the cube is 125\n",
      "Current Number is : 6  and the cube is 216\n"
     ]
    }
   ],
   "source": [
    "input_number = 6\n",
    "for i in range(1, input_number + 1):\n",
    "    print(\"Current Number is :\", i, \" and the cube is\", (i * i * i))"
   ]
  },
  {
   "cell_type": "code",
   "execution_count": null,
   "id": "7c05bcda",
   "metadata": {},
   "outputs": [],
   "source": []
  }
 ],
 "metadata": {
  "kernelspec": {
   "display_name": "Python 3",
   "language": "python",
   "name": "python3"
  },
  "language_info": {
   "codemirror_mode": {
    "name": "ipython",
    "version": 3
   },
   "file_extension": ".py",
   "mimetype": "text/x-python",
   "name": "python",
   "nbconvert_exporter": "python",
   "pygments_lexer": "ipython3",
   "version": "3.8.8"
  }
 },
 "nbformat": 4,
 "nbformat_minor": 5
}
